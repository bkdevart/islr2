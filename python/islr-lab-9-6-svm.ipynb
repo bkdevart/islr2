{
 "cells": [
  {
   "cell_type": "code",
   "execution_count": 1,
   "metadata": {
    "_cell_guid": "b1076dfc-b9ad-4769-8c92-a6c4dae69d19",
    "_uuid": "8f2839f25d086af736a60e9eeb907d3b93b6e0e5"
   },
   "outputs": [],
   "source": [
    "# This Python 3 environment comes with many helpful analytics libraries installed\n",
    "# It is defined by the kaggle/python Docker image: https://github.com/kaggle/docker-python\n",
    "# For example, here's several helpful packages to load\n",
    "\n",
    "import numpy as np # linear algebra\n",
    "import pandas as pd # data processing, CSV file I/O (e.g. pd.read_csv)\n",
    "from matplotlib import pyplot as plt\n",
    "from sklearn.svm import SVC\n",
    "import scipy.stats as stats\n",
    "\n",
    "# Input data files are available in the read-only \"../input/\" directory\n",
    "# For example, running this (by clicking run or pressing Shift+Enter) will list all files under the input directory\n",
    "\n",
    "import os\n",
    "for dirname, _, filenames in os.walk('/kaggle/input'):\n",
    "    for filename in filenames:\n",
    "        print(os.path.join(dirname, filename))\n",
    "\n",
    "# You can write up to 20GB to the current directory (/kaggle/working/) that gets preserved as output when you create a version using \"Save & Run All\" \n",
    "# You can also write temporary files to /kaggle/temp/, but they won't be saved outside of the current session"
   ]
  },
  {
   "cell_type": "markdown",
   "metadata": {},
   "source": [
    "# 9.6.1 Support Vector Classifier\n",
    "\n",
    "Original R code:\n",
    "```r\n",
    "set.seed (1)\n",
    "x <- matrix(rnorm (20 * 2), ncol = 2)\n",
    "y <- c(rep(-1, 10), rep(1, 10))\n",
    "x[y == 1, ] <- x[y == 1, ] + 1\n",
    "plot(x, col = (3 - y))\n",
    "dat <- data.frame(x = x, y = as.factor(y))\n",
    "write.csv(dat, \"9_6_1_svm.csv\", row.names=F)\n",
    "```\n",
    "\n",
    "(extracted 9_6_1_svm.csv data using r code above)"
   ]
  },
  {
   "cell_type": "code",
   "execution_count": 2,
   "metadata": {},
   "outputs": [
    {
     "data": {
      "image/png": "[encoded data removed]",
      "text/plain": [
       "<Figure size 432x288 with 1 Axes>"
      ]
     },
     "metadata": {
      "needs_background": "light"
     },
     "output_type": "display_data"
    }
   ],
   "source": [
    "# check kaggle path, if not exist use local path from git repo\n",
    "file = '/9_6_1_svm.csv'\n",
    "path = '/kaggle/input/islr-v2' + file\n",
    " \n",
    "# Check whether the specified\n",
    "# path exists or not\n",
    "if os.path.exists(path):\n",
    "    df = pd.read_csv(path)\n",
    "else:\n",
    "    path = '../data' + file\n",
    "    df = pd.read_csv(path)\n",
    "df['color'] = df['y']\n",
    "df['color'] = df['color'].replace(1, 'red')\n",
    "df['color'] = df['color'].replace(-1, 'blue')\n",
    "# note: you can chain plots with ax=ax after doing this\n",
    "ax = df.plot(kind='scatter', x='x.1', y='x.2', c=df['color'])"
   ]
  },
  {
   "cell_type": "markdown",
   "metadata": {
    "execution": {
     "iopub.execute_input": "2022-12-22T21:33:57.323608Z",
     "iopub.status.busy": "2022-12-22T21:33:57.323190Z",
     "iopub.status.idle": "2022-12-22T21:33:57.333161Z",
     "shell.execute_reply": "2022-12-22T21:33:57.331453Z",
     "shell.execute_reply.started": "2022-12-22T21:33:57.323576Z"
    }
   },
   "source": [
    "```r\n",
    "library(e1071)\n",
    "svmfit <- svm(y ∼ ., data = dat , kernel = \"linear\", cost = 10, scale = FALSE)\n",
    "```"
   ]
  },
  {
   "cell_type": "code",
   "execution_count": 3,
   "metadata": {},
   "outputs": [
    {
     "data": {
      "text/html": [
       "<div>\n",
       "<style scoped>\n",
       "    .dataframe tbody tr th:only-of-type {\n",
       "        vertical-align: middle;\n",
       "    }\n",
       "\n",
       "    .dataframe tbody tr th {\n",
       "        vertical-align: top;\n",
       "    }\n",
       "\n",
       "    .dataframe thead th {\n",
       "        text-align: right;\n",
       "    }\n",
       "</style>\n",
       "<table border=\"1\" class=\"dataframe\">\n",
       "  <thead>\n",
       "    <tr style=\"text-align: right;\">\n",
       "      <th></th>\n",
       "      <th>x.1</th>\n",
       "      <th>x.2</th>\n",
       "      <th>y</th>\n",
       "      <th>color</th>\n",
       "      <th>y_pred</th>\n",
       "    </tr>\n",
       "  </thead>\n",
       "  <tbody>\n",
       "    <tr>\n",
       "      <th>0</th>\n",
       "      <td>-0.626454</td>\n",
       "      <td>0.918977</td>\n",
       "      <td>-1</td>\n",
       "      <td>blue</td>\n",
       "      <td>-1</td>\n",
       "    </tr>\n",
       "    <tr>\n",
       "      <th>1</th>\n",
       "      <td>0.183643</td>\n",
       "      <td>0.782136</td>\n",
       "      <td>-1</td>\n",
       "      <td>blue</td>\n",
       "      <td>1</td>\n",
       "    </tr>\n",
       "    <tr>\n",
       "      <th>2</th>\n",
       "      <td>-0.835629</td>\n",
       "      <td>0.074565</td>\n",
       "      <td>-1</td>\n",
       "      <td>blue</td>\n",
       "      <td>-1</td>\n",
       "    </tr>\n",
       "    <tr>\n",
       "      <th>3</th>\n",
       "      <td>1.595281</td>\n",
       "      <td>-1.989352</td>\n",
       "      <td>-1</td>\n",
       "      <td>blue</td>\n",
       "      <td>-1</td>\n",
       "    </tr>\n",
       "    <tr>\n",
       "      <th>4</th>\n",
       "      <td>0.329508</td>\n",
       "      <td>0.619826</td>\n",
       "      <td>-1</td>\n",
       "      <td>blue</td>\n",
       "      <td>1</td>\n",
       "    </tr>\n",
       "  </tbody>\n",
       "</table>\n",
       "</div>"
      ],
      "text/plain": [
       "        x.1       x.2  y color  y_pred\n",
       "0 -0.626454  0.918977 -1  blue      -1\n",
       "1  0.183643  0.782136 -1  blue       1\n",
       "2 -0.835629  0.074565 -1  blue      -1\n",
       "3  1.595281 -1.989352 -1  blue      -1\n",
       "4  0.329508  0.619826 -1  blue       1"
      ]
     },
     "execution_count": 3,
     "metadata": {},
     "output_type": "execute_result"
    }
   ],
   "source": [
    "# TODO: find out how to implement scale=FALSE piece - try setting gamma to 'auto'\n",
    "model = SVC(kernel='linear', C=10, gamma='auto')\n",
    "# reshape data and train - note flipping x columns to match r code output\n",
    "X = df[['x.2', 'x.1']].values  # .values.reshape(-1, 1)\n",
    "y = df['y'].values  #.reshape(-1, 1)\n",
    "model.fit(X, y)\n",
    "df['y_pred'] = model.predict(X)\n",
    "df.head()"
   ]
  },
  {
   "cell_type": "markdown",
   "metadata": {},
   "source": [
    "```r\n",
    "plot(svmfit , dat)\n",
    "```\n",
    "\n",
    "R notes from book at https://www.statlearning.com:\n",
    "> Note that the two arguments to the SVM plot() function are the output of the call to svm(), as well as the data used in the call to svm(). The region of feature space that will be assigned to the −1 class is shown in light yellow, and the region that will be assigned to the +1 class is shown in red. The decision boundary between the two classes is linear (because we used the argument kernel = \"linear\"), though due to the way in which the plotting function is implemented in this library the decision boundary looks somewhat jagged in the plot. (Note that here the second feature is plotted on the x-axis and the first feature is plotted on the y-axis, in contrast to the behavior of the usual plot() function in R.) The support vectors are plotted as crosses and the remaining observations are plotted as circles; we see here that there are seven support vectors. (pg. 389)\n",
    "\n",
    "A helpful resource in translating R code to Python below: https://scikit-learn.org/0.18/auto_examples/svm/plot_iris.html"
   ]
  },
  {
   "cell_type": "code",
   "execution_count": 4,
   "metadata": {},
   "outputs": [
    {
     "data": {
      "image/png": "[encoded data removed]",
      "text/plain": [
       "<Figure size 432x288 with 1 Axes>"
      ]
     },
     "metadata": {
      "needs_background": "light"
     },
     "output_type": "display_data"
    }
   ],
   "source": [
    "# approximate of the r graph generated from code above\n",
    "# create a mesh to plot in\n",
    "def svc_plot(model):\n",
    "    h = .02  # step size in the mesh\n",
    "    x_min, x_max = X[:, 0].min(), X[:, 0].max()\n",
    "    y_min, y_max = X[:, 1].min(), X[:, 1].max()\n",
    "    xx, yy = np.meshgrid(np.arange(x_min, x_max, h),\n",
    "                         np.arange(y_min, y_max, h))\n",
    "\n",
    "    Z = model.predict(np.c_[xx.ravel(), yy.ravel()])\n",
    "\n",
    "    # Put the result into a color plot\n",
    "    Z = Z.reshape(xx.shape)\n",
    "    plt.contourf(xx, yy, Z, cmap=plt.cm.coolwarm, alpha=0.8)\n",
    "    plt.scatter(X[:, 0], X[:, 1], c=y, cmap=plt.cm.coolwarm)\n",
    "    plt.xlabel('x.2')\n",
    "    plt.ylabel('x.1')\n",
    "    plt.xlim(xx.min(), xx.max())\n",
    "    plt.ylim(yy.min(), yy.max())\n",
    "    plt.title('SVM classification plot')\n",
    "\n",
    "svc_plot(model)"
   ]
  },
  {
   "cell_type": "code",
   "execution_count": 5,
   "metadata": {},
   "outputs": [
    {
     "data": {
      "text/html": [
       "<div>\n",
       "<style scoped>\n",
       "    .dataframe tbody tr th:only-of-type {\n",
       "        vertical-align: middle;\n",
       "    }\n",
       "\n",
       "    .dataframe tbody tr th {\n",
       "        vertical-align: top;\n",
       "    }\n",
       "\n",
       "    .dataframe thead th {\n",
       "        text-align: right;\n",
       "    }\n",
       "</style>\n",
       "<table border=\"1\" class=\"dataframe\">\n",
       "  <thead>\n",
       "    <tr style=\"text-align: right;\">\n",
       "      <th></th>\n",
       "      <th>x.1</th>\n",
       "      <th>x.2</th>\n",
       "      <th>y</th>\n",
       "      <th>color</th>\n",
       "      <th>y_pred</th>\n",
       "    </tr>\n",
       "  </thead>\n",
       "  <tbody>\n",
       "    <tr>\n",
       "      <th>0</th>\n",
       "      <td>-0.626454</td>\n",
       "      <td>0.918977</td>\n",
       "      <td>-1</td>\n",
       "      <td>blue</td>\n",
       "      <td>-1</td>\n",
       "    </tr>\n",
       "    <tr>\n",
       "      <th>1</th>\n",
       "      <td>0.183643</td>\n",
       "      <td>0.782136</td>\n",
       "      <td>-1</td>\n",
       "      <td>blue</td>\n",
       "      <td>1</td>\n",
       "    </tr>\n",
       "    <tr>\n",
       "      <th>11</th>\n",
       "      <td>1.389843</td>\n",
       "      <td>0.897212</td>\n",
       "      <td>1</td>\n",
       "      <td>red</td>\n",
       "      <td>1</td>\n",
       "    </tr>\n",
       "    <tr>\n",
       "      <th>13</th>\n",
       "      <td>-1.214700</td>\n",
       "      <td>0.946195</td>\n",
       "      <td>1</td>\n",
       "      <td>red</td>\n",
       "      <td>-1</td>\n",
       "    </tr>\n",
       "    <tr>\n",
       "      <th>17</th>\n",
       "      <td>1.943836</td>\n",
       "      <td>0.940687</td>\n",
       "      <td>1</td>\n",
       "      <td>red</td>\n",
       "      <td>1</td>\n",
       "    </tr>\n",
       "  </tbody>\n",
       "</table>\n",
       "</div>"
      ],
      "text/plain": [
       "         x.1       x.2  y color  y_pred\n",
       "0  -0.626454  0.918977 -1  blue      -1\n",
       "1   0.183643  0.782136 -1  blue       1\n",
       "11  1.389843  0.897212  1   red       1\n",
       "13 -1.214700  0.946195  1   red      -1\n",
       "17  1.943836  0.940687  1   red       1"
      ]
     },
     "execution_count": 5,
     "metadata": {},
     "output_type": "execute_result"
    }
   ],
   "source": [
    "# check the values that were misclassified using visual (zoomed in makes it hard to see some of them, can add +/-1 to max/min values above)\n",
    "df[(df['x.2'] > .75) & (df['x.2'] < 1)]"
   ]
  },
  {
   "cell_type": "code",
   "execution_count": 6,
   "metadata": {},
   "outputs": [
    {
     "data": {
      "text/html": [
       "<div>\n",
       "<style scoped>\n",
       "    .dataframe tbody tr th:only-of-type {\n",
       "        vertical-align: middle;\n",
       "    }\n",
       "\n",
       "    .dataframe tbody tr th {\n",
       "        vertical-align: top;\n",
       "    }\n",
       "\n",
       "    .dataframe thead th {\n",
       "        text-align: right;\n",
       "    }\n",
       "</style>\n",
       "<table border=\"1\" class=\"dataframe\">\n",
       "  <thead>\n",
       "    <tr style=\"text-align: right;\">\n",
       "      <th></th>\n",
       "      <th>x.1</th>\n",
       "      <th>x.2</th>\n",
       "      <th>y</th>\n",
       "      <th>color</th>\n",
       "      <th>y_pred</th>\n",
       "    </tr>\n",
       "  </thead>\n",
       "  <tbody>\n",
       "    <tr>\n",
       "      <th>1</th>\n",
       "      <td>0.183643</td>\n",
       "      <td>0.782136</td>\n",
       "      <td>-1</td>\n",
       "      <td>blue</td>\n",
       "      <td>1</td>\n",
       "    </tr>\n",
       "    <tr>\n",
       "      <th>4</th>\n",
       "      <td>0.329508</td>\n",
       "      <td>0.619826</td>\n",
       "      <td>-1</td>\n",
       "      <td>blue</td>\n",
       "      <td>1</td>\n",
       "    </tr>\n",
       "    <tr>\n",
       "      <th>13</th>\n",
       "      <td>-1.214700</td>\n",
       "      <td>0.946195</td>\n",
       "      <td>1</td>\n",
       "      <td>red</td>\n",
       "      <td>-1</td>\n",
       "    </tr>\n",
       "  </tbody>\n",
       "</table>\n",
       "</div>"
      ],
      "text/plain": [
       "         x.1       x.2  y color  y_pred\n",
       "1   0.183643  0.782136 -1  blue       1\n",
       "4   0.329508  0.619826 -1  blue       1\n",
       "13 -1.214700  0.946195  1   red      -1"
      ]
     },
     "execution_count": 6,
     "metadata": {},
     "output_type": "execute_result"
    }
   ],
   "source": [
    "# check the values that were misclassified comparing values\n",
    "df[df['y'] != df['y_pred']]"
   ]
  },
  {
   "cell_type": "markdown",
   "metadata": {},
   "source": [
    "There are seven support vectors. We can determine their identities as follows:\n",
    "\n",
    "```r\n",
    "svmfit$index\n",
    "[1] 1 2 5 7 14 16 17\n",
    "```"
   ]
  },
  {
   "cell_type": "code",
   "execution_count": 7,
   "metadata": {},
   "outputs": [
    {
     "data": {
      "text/plain": [
       "array([ 0,  1,  4,  6, 13, 15, 16], dtype=int32)"
      ]
     },
     "execution_count": 7,
     "metadata": {},
     "output_type": "execute_result"
    }
   ],
   "source": [
    "model.support_"
   ]
  },
  {
   "cell_type": "code",
   "execution_count": 8,
   "metadata": {},
   "outputs": [
    {
     "data": {
      "text/plain": [
       "array([[ 0.91897737, -0.62645381],\n",
       "       [ 0.7821363 ,  0.18364332],\n",
       "       [ 0.61982575,  0.32950777],\n",
       "       [-0.15579551,  0.48742905],\n",
       "       [ 0.94619496, -1.21469989],\n",
       "       [ 0.58500544,  0.95506639],\n",
       "       [ 0.60571005,  0.98380974]])"
      ]
     },
     "execution_count": 8,
     "metadata": {},
     "output_type": "execute_result"
    }
   ],
   "source": [
    "model.support_vectors_"
   ]
  },
  {
   "cell_type": "markdown",
   "metadata": {},
   "source": [
    "Code:\n",
    "```r\n",
    "summary(svmfit)\n",
    "```\n",
    "\n",
    "Output:\n",
    "```\n",
    "Call:\n",
    "svm(formula = y ~ ., data = dat, kernel = \"linear\", cost = 10, scale = FALSE)\n",
    "\n",
    "\n",
    "Parameters:\n",
    "   SVM-Type:  C-classification \n",
    " SVM-Kernel:  linear \n",
    "       cost:  10 \n",
    "\n",
    "Number of Support Vectors:  7\n",
    "\n",
    " ( 4 3 )\n",
    "\n",
    "\n",
    "Number of Classes:  2 \n",
    "\n",
    "Levels: \n",
    " -1 1\n",
    "```\n",
    "\n",
    "Output Breakdown\n",
    "- ~~code used to create model~~\n",
    "- ~~breakdown of parameters~~\n",
    "- ~~total count of support vectors~~\n",
    "- ~~( 4 3 ) - how many vectors in each class~~\n",
    "- ~~Number of classes~~\n",
    "- ~~Levels~~"
   ]
  },
  {
   "cell_type": "code",
   "execution_count": 9,
   "metadata": {},
   "outputs": [
    {
     "name": "stdout",
     "output_type": "stream",
     "text": [
      "Call:\n",
      "SVC(C=10, gamma='auto', kernel='linear') gamma=auto\n",
      "Parameters:\n",
      "SVM-Type: C-classification\n",
      "SVM-Kernel: linear\n",
      "cost: 10\n",
      "Number of Support Vectors:  7\n",
      "([4 3])\n",
      "Number of Classes:  2\n",
      "Levels:\n",
      "[-1  1]\n"
     ]
    }
   ],
   "source": [
    "# similar metric output in python\n",
    "def svc_summary(model):\n",
    "    print(f'Call:\\n{model} gamma={model.get_params()[\"gamma\"]}')\n",
    "    print('Parameters:')\n",
    "    # not quite sure if we can get it to print it's a classifier, however it identifies as SVC in the call section above\n",
    "    print(f'SVM-Type: C-classification')\n",
    "    print(f\"SVM-Kernel: {model.get_params()['kernel']}\")\n",
    "    print(f\"cost: {model.get_params()['C']}\")\n",
    "    print(f'Number of Support Vectors:  {len(model.support_)}')\n",
    "    # show how many vectors in each class\n",
    "    print(f'({model.n_support_})')\n",
    "    print(f'Number of Classes:  {model.n_features_in_}')\n",
    "    print(f'Levels:\\n{model.classes_}')\n",
    "\n",
    "svc_summary(model)"
   ]
  },
  {
   "cell_type": "markdown",
   "metadata": {},
   "source": [
    "Using a smaller value of the cost parameter:\n",
    "\n",
    "```r\n",
    "svmfit = svm(y ~ ., data = dat, kernel = \"linear\", cost = 0.1, scale = FALSE)\n",
    "plot(svmfit, dat)\n",
    "svmfit$index\n",
    "```"
   ]
  },
  {
   "cell_type": "code",
   "execution_count": 10,
   "metadata": {},
   "outputs": [
    {
     "data": {
      "image/png": "[encoded data removed]",
      "text/plain": [
       "<Figure size 432x288 with 1 Axes>"
      ]
     },
     "metadata": {
      "needs_background": "light"
     },
     "output_type": "display_data"
    }
   ],
   "source": [
    "model = SVC(kernel='linear', C=.1, gamma='auto')\n",
    "# reshape data and train - note flipping x columns to match r code output\n",
    "X = df[['x.2', 'x.1']].values  # .values.reshape(-1, 1)\n",
    "y = df['y'].values  #.reshape(-1, 1)\n",
    "model.fit(X, y)\n",
    "df['y_pred'] = model.predict(X)\n",
    "svc_plot(model)"
   ]
  },
  {
   "cell_type": "code",
   "execution_count": 11,
   "metadata": {},
   "outputs": [
    {
     "data": {
      "text/plain": [
       "array([ 0,  1,  2,  3,  4,  6,  8,  9, 11, 12, 13, 14, 15, 16, 17, 19],\n",
       "      dtype=int32)"
      ]
     },
     "execution_count": 11,
     "metadata": {},
     "output_type": "execute_result"
    }
   ],
   "source": [
    "model.support_"
   ]
  },
  {
   "cell_type": "code",
   "execution_count": 12,
   "metadata": {},
   "outputs": [
    {
     "name": "stdout",
     "output_type": "stream",
     "text": [
      "Call:\n",
      "SVC(C=0.1, gamma='auto', kernel='linear') gamma=auto\n",
      "Parameters:\n",
      "SVM-Type: C-classification\n",
      "SVM-Kernel: linear\n",
      "cost: 0.1\n",
      "Number of Support Vectors:  16\n",
      "([8 8])\n",
      "Number of Classes:  2\n",
      "Levels:\n",
      "[-1  1]\n"
     ]
    }
   ],
   "source": [
    "# additional info on model\n",
    "svc_summary(model)"
   ]
  },
  {
   "cell_type": "markdown",
   "metadata": {},
   "source": [
    "# 9.6.2 Support Vector Machine\n",
    "```r\n",
    "set.seed(1)\n",
    "x = matrix(rnorm(200 * 2), ncol = 2)\n",
    "x[1:100, ] = x[1:100, ] + 2\n",
    "x[101:150, ] = x[101:150, ] - 2\n",
    "y = c(rep(1, 150), rep(2, 50))\n",
    "dat = data.frame(x = x, y = as.factor(y))\n",
    "\n",
    "plot(x, col = y)\n",
    "```"
   ]
  },
  {
   "cell_type": "code",
   "execution_count": null,
   "metadata": {},
   "outputs": [],
   "source": []
  },
  {
   "cell_type": "markdown",
   "metadata": {},
   "source": [
    "```r\n",
    "train = sample(200, 100)\n",
    "svmfit = svm(y ~ ., data = dat[train, ], kernel = \"radial\", gamme = 1, cost = 1)\n",
    "plot(svmfit, dat[train, ])\n",
    "\n",
    "summary(svmfit)\n",
    "```"
   ]
  },
  {
   "cell_type": "code",
   "execution_count": null,
   "metadata": {},
   "outputs": [],
   "source": []
  },
  {
   "cell_type": "markdown",
   "metadata": {},
   "source": [
    "```r\n",
    "svmfit <- svm(y ∼ ., data = dat[train, ], kernel = \"radial\", gamma = 1, cost = 1e5)\n",
    "plot(svmfit, dat[train, ])\n",
    "```"
   ]
  },
  {
   "cell_type": "code",
   "execution_count": null,
   "metadata": {},
   "outputs": [],
   "source": []
  },
  {
   "cell_type": "markdown",
   "metadata": {},
   "source": [
    "```r\n",
    "set.seed(1)\n",
    "tune.out <- tune(svm, y ∼ ., data = dat[train, ],\n",
    "    kernel = \"radial\", ranges = list(\n",
    "    cost = c(0.1, 1, 10, 100, 1000),\n",
    "    gamma = c(0.5, 1, 2, 3, 4) \n",
    "    )\n",
    ")\n",
    "summary(tune.out)\n",
    "```"
   ]
  },
  {
   "cell_type": "code",
   "execution_count": null,
   "metadata": {},
   "outputs": [],
   "source": []
  },
  {
   "cell_type": "markdown",
   "metadata": {},
   "source": [
    "```r\n",
    "table(\n",
    "true = dat[-train, \"y\"], pred = predict(\n",
    "tune.out$best.model, newdata = dat[-train, ]\n",
    ") )\n",
    "```"
   ]
  },
  {
   "cell_type": "code",
   "execution_count": null,
   "metadata": {},
   "outputs": [],
   "source": []
  },
  {
   "cell_type": "markdown",
   "metadata": {},
   "source": [
    "# 9.6.3 ROC Curves\n",
    "```r\n",
    "install.packages(\"ROCR\")  # 1st time only\n",
    "library(ROCR)\n",
    "rocplot <- function(pred, truth, ...) {\n",
    "  predob <- prediction(pred, truth)\n",
    "  perf <- performance(predob, \"tpr\", \"fpr\")\n",
    "  plot(perf, ...)\n",
    "}\n",
    "```"
   ]
  },
  {
   "cell_type": "code",
   "execution_count": null,
   "metadata": {},
   "outputs": [],
   "source": []
  },
  {
   "cell_type": "markdown",
   "metadata": {},
   "source": [
    "```r\n",
    "svmfit.opt = svm(y ~ ., data = dat[train, ], kernel = \"radial\", gamma = 2, cost = 1, decision.values = T)\n",
    "fitted = attributes(\n",
    "  predict(svmfit.opt, dat[train, ], decision.values = TRUE)\n",
    ")$decision.values\n",
    "```"
   ]
  },
  {
   "cell_type": "code",
   "execution_count": null,
   "metadata": {},
   "outputs": [],
   "source": []
  },
  {
   "cell_type": "markdown",
   "metadata": {},
   "source": [
    "```r\n",
    "par(mfrow = c(1, 2))\n",
    "rocplot(-fitted, dat[train, \"y\"], main = \"Training Data\")\n",
    "```"
   ]
  },
  {
   "cell_type": "code",
   "execution_count": null,
   "metadata": {},
   "outputs": [],
   "source": []
  }
 ],
 "metadata": {
  "kernelspec": {
   "display_name": "PythonData",
   "language": "python",
   "name": "pythondata"
  },
  "language_info": {
   "codemirror_mode": {
    "name": "ipython",
    "version": 3
   },
   "file_extension": ".py",
   "mimetype": "text/x-python",
   "name": "python",
   "nbconvert_exporter": "python",
   "pygments_lexer": "ipython3",
   "version": "3.8.12"
  }
 },
 "nbformat": 4,
 "nbformat_minor": 4
}
