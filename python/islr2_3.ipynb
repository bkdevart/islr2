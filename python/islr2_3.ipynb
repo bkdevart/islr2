{
 "cells": [
  {
   "cell_type": "code",
   "execution_count": 23,
   "id": "692564f3-25b6-4331-a3eb-da96b63d5743",
   "metadata": {},
   "outputs": [],
   "source": [
    "import numpy as np\n",
    "import pandas as pd\n",
    "import matplotlib.pyplot as plt\n",
    "from sklearn.linear_model import LinearRegression\n",
    "import sklearn.metrics as metrics\n",
    "# from sklearn.model_selection import train_test_split\n",
    "import statsmodels.api as sm\n",
    "%matplotlib inline"
   ]
  },
  {
   "cell_type": "markdown",
   "id": "c0339eb9-9805-427e-91fd-6ec1e9d33e19",
   "metadata": {},
   "source": [
    "Export data from R:\n",
    "```\n",
    "library(ISLR2)\n",
    "write.csv(Boston, \"boston.csv\", row.names=F)\n",
    "```"
   ]
  },
  {
   "cell_type": "code",
   "execution_count": 24,
   "id": "f4f4ef7a-14ba-4158-823b-b7f0b2a7c72b",
   "metadata": {},
   "outputs": [
    {
     "data": {
      "text/html": [
       "<div>\n",
       "<style scoped>\n",
       "    .dataframe tbody tr th:only-of-type {\n",
       "        vertical-align: middle;\n",
       "    }\n",
       "\n",
       "    .dataframe tbody tr th {\n",
       "        vertical-align: top;\n",
       "    }\n",
       "\n",
       "    .dataframe thead th {\n",
       "        text-align: right;\n",
       "    }\n",
       "</style>\n",
       "<table border=\"1\" class=\"dataframe\">\n",
       "  <thead>\n",
       "    <tr style=\"text-align: right;\">\n",
       "      <th></th>\n",
       "      <th>crim</th>\n",
       "      <th>zn</th>\n",
       "      <th>indus</th>\n",
       "      <th>chas</th>\n",
       "      <th>nox</th>\n",
       "      <th>rm</th>\n",
       "      <th>age</th>\n",
       "      <th>dis</th>\n",
       "      <th>rad</th>\n",
       "      <th>tax</th>\n",
       "      <th>ptratio</th>\n",
       "      <th>black</th>\n",
       "      <th>lstat</th>\n",
       "      <th>medv</th>\n",
       "    </tr>\n",
       "  </thead>\n",
       "  <tbody>\n",
       "    <tr>\n",
       "      <th>0</th>\n",
       "      <td>0.00632</td>\n",
       "      <td>18.0</td>\n",
       "      <td>2.31</td>\n",
       "      <td>0</td>\n",
       "      <td>0.538</td>\n",
       "      <td>6.575</td>\n",
       "      <td>65.2</td>\n",
       "      <td>4.0900</td>\n",
       "      <td>1</td>\n",
       "      <td>296</td>\n",
       "      <td>15.3</td>\n",
       "      <td>396.90</td>\n",
       "      <td>4.98</td>\n",
       "      <td>24.0</td>\n",
       "    </tr>\n",
       "    <tr>\n",
       "      <th>1</th>\n",
       "      <td>0.02731</td>\n",
       "      <td>0.0</td>\n",
       "      <td>7.07</td>\n",
       "      <td>0</td>\n",
       "      <td>0.469</td>\n",
       "      <td>6.421</td>\n",
       "      <td>78.9</td>\n",
       "      <td>4.9671</td>\n",
       "      <td>2</td>\n",
       "      <td>242</td>\n",
       "      <td>17.8</td>\n",
       "      <td>396.90</td>\n",
       "      <td>9.14</td>\n",
       "      <td>21.6</td>\n",
       "    </tr>\n",
       "    <tr>\n",
       "      <th>2</th>\n",
       "      <td>0.02729</td>\n",
       "      <td>0.0</td>\n",
       "      <td>7.07</td>\n",
       "      <td>0</td>\n",
       "      <td>0.469</td>\n",
       "      <td>7.185</td>\n",
       "      <td>61.1</td>\n",
       "      <td>4.9671</td>\n",
       "      <td>2</td>\n",
       "      <td>242</td>\n",
       "      <td>17.8</td>\n",
       "      <td>392.83</td>\n",
       "      <td>4.03</td>\n",
       "      <td>34.7</td>\n",
       "    </tr>\n",
       "    <tr>\n",
       "      <th>3</th>\n",
       "      <td>0.03237</td>\n",
       "      <td>0.0</td>\n",
       "      <td>2.18</td>\n",
       "      <td>0</td>\n",
       "      <td>0.458</td>\n",
       "      <td>6.998</td>\n",
       "      <td>45.8</td>\n",
       "      <td>6.0622</td>\n",
       "      <td>3</td>\n",
       "      <td>222</td>\n",
       "      <td>18.7</td>\n",
       "      <td>394.63</td>\n",
       "      <td>2.94</td>\n",
       "      <td>33.4</td>\n",
       "    </tr>\n",
       "    <tr>\n",
       "      <th>4</th>\n",
       "      <td>0.06905</td>\n",
       "      <td>0.0</td>\n",
       "      <td>2.18</td>\n",
       "      <td>0</td>\n",
       "      <td>0.458</td>\n",
       "      <td>7.147</td>\n",
       "      <td>54.2</td>\n",
       "      <td>6.0622</td>\n",
       "      <td>3</td>\n",
       "      <td>222</td>\n",
       "      <td>18.7</td>\n",
       "      <td>396.90</td>\n",
       "      <td>5.33</td>\n",
       "      <td>36.2</td>\n",
       "    </tr>\n",
       "  </tbody>\n",
       "</table>\n",
       "</div>"
      ],
      "text/plain": [
       "      crim    zn  indus  chas    nox     rm   age     dis  rad  tax  ptratio  \\\n",
       "0  0.00632  18.0   2.31     0  0.538  6.575  65.2  4.0900    1  296     15.3   \n",
       "1  0.02731   0.0   7.07     0  0.469  6.421  78.9  4.9671    2  242     17.8   \n",
       "2  0.02729   0.0   7.07     0  0.469  7.185  61.1  4.9671    2  242     17.8   \n",
       "3  0.03237   0.0   2.18     0  0.458  6.998  45.8  6.0622    3  222     18.7   \n",
       "4  0.06905   0.0   2.18     0  0.458  7.147  54.2  6.0622    3  222     18.7   \n",
       "\n",
       "    black  lstat  medv  \n",
       "0  396.90   4.98  24.0  \n",
       "1  396.90   9.14  21.6  \n",
       "2  392.83   4.03  34.7  \n",
       "3  394.63   2.94  33.4  \n",
       "4  396.90   5.33  36.2  "
      ]
     },
     "execution_count": 24,
     "metadata": {},
     "output_type": "execute_result"
    }
   ],
   "source": [
    "# 3.6.2 - simple linear regression\n",
    "boston = pd.read_csv('../data/boston.csv')\n",
    "boston.head()"
   ]
  },
  {
   "cell_type": "markdown",
   "id": "bea1dfbe-76ea-43a3-85af-81488c3bcb2c",
   "metadata": {},
   "source": [
    "R - fit a linear regression: \n",
    "```\n",
    "attach(Boston)\n",
    "lm.fit = lm(medv ~ lstat)\n",
    "```"
   ]
  },
  {
   "cell_type": "code",
   "execution_count": 25,
   "id": "d90ecbc4-9462-4062-93c4-21868150c6b7",
   "metadata": {},
   "outputs": [
    {
     "data": {
      "text/plain": [
       "LinearRegression()"
      ]
     },
     "execution_count": 25,
     "metadata": {},
     "output_type": "execute_result"
    }
   ],
   "source": [
    "y = boston['medv'].to_numpy().reshape(-1, 1)\n",
    "X = boston['lstat'].to_numpy().reshape(-1, 1)\n",
    "sklearn_model = LinearRegression()\n",
    "sklearn_model.fit(X, y)"
   ]
  },
  {
   "cell_type": "markdown",
   "id": "c67443ee-2bc3-4e77-9c8d-1e777a5ba046",
   "metadata": {},
   "source": [
    "R - showing intercept and coefficient: `lm.fit` or `coef(lm.fit)`"
   ]
  },
  {
   "cell_type": "code",
   "execution_count": 26,
   "id": "e170e464-556e-4872-9393-66dd01c2f7b3",
   "metadata": {},
   "outputs": [
    {
     "name": "stdout",
     "output_type": "stream",
     "text": [
      "Intercept: [34.55384088], Coefficeint (lstat): [[-0.95004935]]\n"
     ]
    }
   ],
   "source": [
    "print(f'Intercept: {sklearn_model.intercept_}, Coefficeint (lstat): {sklearn_model.coef_}')"
   ]
  },
  {
   "cell_type": "markdown",
   "id": "4d34b5ff-6b42-4cc6-af4c-11dc213b4a3b",
   "metadata": {},
   "source": [
    "To get a more equivilent report to R's `summary(lm.fit)`, use `statsmodels`.\n",
    "There exists no R type regression summary report in sklearn. The main reason is \n",
    "that sklearn is used for predictive modelling / machine learning and the evaluation \n",
    "criteria are based on performance on previously unseen data (such as predictive r^2 \n",
    "for regression).\n",
    "\n",
    "More info: https://datatofish.com/statsmodels-linear-regression/"
   ]
  },
  {
   "cell_type": "code",
   "execution_count": 28,
   "id": "ef63e158-4115-4c82-ade7-a12940d042d2",
   "metadata": {},
   "outputs": [
    {
     "data": {
      "text/html": [
       "<table class=\"simpletable\">\n",
       "<caption>OLS Regression Results</caption>\n",
       "<tr>\n",
       "  <th>Dep. Variable:</th>            <td>y</td>        <th>  R-squared:         </th> <td>   0.544</td>\n",
       "</tr>\n",
       "<tr>\n",
       "  <th>Model:</th>                   <td>OLS</td>       <th>  Adj. R-squared:    </th> <td>   0.543</td>\n",
       "</tr>\n",
       "<tr>\n",
       "  <th>Method:</th>             <td>Least Squares</td>  <th>  F-statistic:       </th> <td>   601.6</td>\n",
       "</tr>\n",
       "<tr>\n",
       "  <th>Date:</th>             <td>Sun, 06 Mar 2022</td> <th>  Prob (F-statistic):</th> <td>5.08e-88</td>\n",
       "</tr>\n",
       "<tr>\n",
       "  <th>Time:</th>                 <td>14:30:28</td>     <th>  Log-Likelihood:    </th> <td> -1641.5</td>\n",
       "</tr>\n",
       "<tr>\n",
       "  <th>No. Observations:</th>      <td>   506</td>      <th>  AIC:               </th> <td>   3287.</td>\n",
       "</tr>\n",
       "<tr>\n",
       "  <th>Df Residuals:</th>          <td>   504</td>      <th>  BIC:               </th> <td>   3295.</td>\n",
       "</tr>\n",
       "<tr>\n",
       "  <th>Df Model:</th>              <td>     1</td>      <th>                     </th>     <td> </td>   \n",
       "</tr>\n",
       "<tr>\n",
       "  <th>Covariance Type:</th>      <td>nonrobust</td>    <th>                     </th>     <td> </td>   \n",
       "</tr>\n",
       "</table>\n",
       "<table class=\"simpletable\">\n",
       "<tr>\n",
       "    <td></td>       <th>coef</th>     <th>std err</th>      <th>t</th>      <th>P>|t|</th>  <th>[0.025</th>    <th>0.975]</th>  \n",
       "</tr>\n",
       "<tr>\n",
       "  <th>const</th> <td>   34.5538</td> <td>    0.563</td> <td>   61.415</td> <td> 0.000</td> <td>   33.448</td> <td>   35.659</td>\n",
       "</tr>\n",
       "<tr>\n",
       "  <th>x1</th>    <td>   -0.9500</td> <td>    0.039</td> <td>  -24.528</td> <td> 0.000</td> <td>   -1.026</td> <td>   -0.874</td>\n",
       "</tr>\n",
       "</table>\n",
       "<table class=\"simpletable\">\n",
       "<tr>\n",
       "  <th>Omnibus:</th>       <td>137.043</td> <th>  Durbin-Watson:     </th> <td>   0.892</td>\n",
       "</tr>\n",
       "<tr>\n",
       "  <th>Prob(Omnibus):</th> <td> 0.000</td>  <th>  Jarque-Bera (JB):  </th> <td> 291.373</td>\n",
       "</tr>\n",
       "<tr>\n",
       "  <th>Skew:</th>          <td> 1.453</td>  <th>  Prob(JB):          </th> <td>5.36e-64</td>\n",
       "</tr>\n",
       "<tr>\n",
       "  <th>Kurtosis:</th>      <td> 5.319</td>  <th>  Cond. No.          </th> <td>    29.7</td>\n",
       "</tr>\n",
       "</table><br/><br/>Notes:<br/>[1] Standard Errors assume that the covariance matrix of the errors is correctly specified."
      ],
      "text/plain": [
       "<class 'statsmodels.iolib.summary.Summary'>\n",
       "\"\"\"\n",
       "                            OLS Regression Results                            \n",
       "==============================================================================\n",
       "Dep. Variable:                      y   R-squared:                       0.544\n",
       "Model:                            OLS   Adj. R-squared:                  0.543\n",
       "Method:                 Least Squares   F-statistic:                     601.6\n",
       "Date:                Sun, 06 Mar 2022   Prob (F-statistic):           5.08e-88\n",
       "Time:                        14:30:28   Log-Likelihood:                -1641.5\n",
       "No. Observations:                 506   AIC:                             3287.\n",
       "Df Residuals:                     504   BIC:                             3295.\n",
       "Df Model:                           1                                         \n",
       "Covariance Type:            nonrobust                                         \n",
       "==============================================================================\n",
       "                 coef    std err          t      P>|t|      [0.025      0.975]\n",
       "------------------------------------------------------------------------------\n",
       "const         34.5538      0.563     61.415      0.000      33.448      35.659\n",
       "x1            -0.9500      0.039    -24.528      0.000      -1.026      -0.874\n",
       "==============================================================================\n",
       "Omnibus:                      137.043   Durbin-Watson:                   0.892\n",
       "Prob(Omnibus):                  0.000   Jarque-Bera (JB):              291.373\n",
       "Skew:                           1.453   Prob(JB):                     5.36e-64\n",
       "Kurtosis:                       5.319   Cond. No.                         29.7\n",
       "==============================================================================\n",
       "\n",
       "Notes:\n",
       "[1] Standard Errors assume that the covariance matrix of the errors is correctly specified.\n",
       "\"\"\""
      ]
     },
     "execution_count": 28,
     "metadata": {},
     "output_type": "execute_result"
    }
   ],
   "source": [
    "sm_X = sm.add_constant(X)\n",
    "sm_model = sm.OLS(y, sm_X).fit()\n",
    "predictions = sm_model.predict(sm_X) \n",
    "sm_model.summary()"
   ]
  },
  {
   "cell_type": "markdown",
   "id": "310e5c89-64a1-4bf9-9c96-40424696c139",
   "metadata": {},
   "source": [
    "# R summary comparison\n",
    "Data in both summaries:\n",
    "- Coefficients match Python\n",
    "- Multiple R-squared is R-squared in Python\n",
    "- Adjusted R-squard is Adj. R-squared in Python\n",
    "- F-statistic is F-statistic in Python\n",
    "    - the \"1 and 504 DF\" can be found in DF Model and DF Residuals in Python\n",
    "- p-value is likely under the P>|t| section, but so small it's showing 0 instead of 2.2e-16 in Python\n",
    "\n",
    "Data missing from Python:\n",
    "- Residuals (Min, 1Q, Median, 3Q, Max)\n",
    "- Residual standard error (504 is listed, but not 6.216)\n",
    "- Signif. codes\n",
    "\n",
    "```\n",
    "Residuals:\n",
    "    Min      1Q  Median      3Q     Max \n",
    "-15.168  -3.990  -1.318   2.034  24.500 \n",
    "\n",
    "Coefficients:\n",
    "            Estimate Std. Error t value Pr(>|t|)    \n",
    "(Intercept) 34.55384    0.56263   61.41   <2e-16 ***\n",
    "lstat       -0.95005    0.03873  -24.53   <2e-16 ***\n",
    "---\n",
    "Signif. codes:  \n",
    "0 ‘***’ 0.001 ‘**’ 0.01 ‘*’ 0.05 ‘.’ 0.1 ‘ ’ 1\n",
    "\n",
    "Residual standard error: 6.216 on 504 degrees of freedom\n",
    "Multiple R-squared:  0.5441,\tAdjusted R-squared:  0.5432 \n",
    "F-statistic: 601.6 on 1 and 504 DF,  p-value: < 2.2e-16\n",
    "```"
   ]
  },
  {
   "cell_type": "markdown",
   "id": "54dfe1ef-af36-4af8-81be-948de2bcf443",
   "metadata": {},
   "source": [
    "R - obtain a confidence interval for the coefficient estimates: \n",
    "```\n",
    "> confint(lm.fit)\n",
    "                2.5 %     97.5 %\n",
    "(Intercept) 33.448457 35.6592247\n",
    "lstat       -1.026148 -0.8739505\n",
    "```"
   ]
  },
  {
   "cell_type": "code",
   "execution_count": 48,
   "id": "4038777e-e210-48e8-b189-9ebb4212a738",
   "metadata": {},
   "outputs": [
    {
     "data": {
      "text/plain": [
       "array([[33.44845704, 35.65922472],\n",
       "       [-1.0261482 , -0.87395051]])"
      ]
     },
     "execution_count": 48,
     "metadata": {},
     "output_type": "execute_result"
    }
   ],
   "source": [
    "# The default alpha = .05 returns a 95% confidence interval.\n",
    "sm_model.conf_int(alpha=0.05, cols=None)"
   ]
  },
  {
   "cell_type": "markdown",
   "id": "feb57ba0-668a-4e00-85b7-96e7e68b4448",
   "metadata": {},
   "source": [
    "Producing confidence intervals for medv for a given value of lstat\n",
    "```\n",
    "> predict(lm.fit, data.frame(lstat=(c(5, 10, 15))), interval=\"confidence\")\n",
    "       fit      lwr      upr\n",
    "1 29.80359 29.00741 30.59978\n",
    "2 25.05335 24.47413 25.63256\n",
    "3 20.30310 19.73159 20.87461\n",
    "```"
   ]
  },
  {
   "cell_type": "code",
   "execution_count": 62,
   "id": "217c4916-7f4b-4960-bd18-24494dd721a1",
   "metadata": {},
   "outputs": [
    {
     "data": {
      "text/html": [
       "<div>\n",
       "<style scoped>\n",
       "    .dataframe tbody tr th:only-of-type {\n",
       "        vertical-align: middle;\n",
       "    }\n",
       "\n",
       "    .dataframe tbody tr th {\n",
       "        vertical-align: top;\n",
       "    }\n",
       "\n",
       "    .dataframe thead th {\n",
       "        text-align: right;\n",
       "    }\n",
       "</style>\n",
       "<table border=\"1\" class=\"dataframe\">\n",
       "  <thead>\n",
       "    <tr style=\"text-align: right;\">\n",
       "      <th></th>\n",
       "      <th>mean</th>\n",
       "      <th>mean_ci_lower</th>\n",
       "      <th>mean_ci_upper</th>\n",
       "    </tr>\n",
       "  </thead>\n",
       "  <tbody>\n",
       "    <tr>\n",
       "      <th>0</th>\n",
       "      <td>29.803594</td>\n",
       "      <td>29.007412</td>\n",
       "      <td>30.599776</td>\n",
       "    </tr>\n",
       "    <tr>\n",
       "      <th>1</th>\n",
       "      <td>25.053347</td>\n",
       "      <td>24.474132</td>\n",
       "      <td>25.632563</td>\n",
       "    </tr>\n",
       "    <tr>\n",
       "      <th>2</th>\n",
       "      <td>20.303101</td>\n",
       "      <td>19.731588</td>\n",
       "      <td>20.874613</td>\n",
       "    </tr>\n",
       "  </tbody>\n",
       "</table>\n",
       "</div>"
      ],
      "text/plain": [
       "        mean  mean_ci_lower  mean_ci_upper\n",
       "0  29.803594      29.007412      30.599776\n",
       "1  25.053347      24.474132      25.632563\n",
       "2  20.303101      19.731588      20.874613"
      ]
     },
     "execution_count": 62,
     "metadata": {},
     "output_type": "execute_result"
    }
   ],
   "source": [
    "sm_model.get_prediction(sm.add_constant([5, 10, 15])).summary_frame()[['mean', 'mean_ci_lower', 'mean_ci_upper']]"
   ]
  },
  {
   "cell_type": "markdown",
   "id": "65447962-c75e-4ccb-a45c-61b4eec12cb4",
   "metadata": {},
   "source": [
    "Producing prediction intervals for medv for a given value of lstat\n",
    "```\n",
    "> predict(lm.fit, data.frame(lstat=(c(5, 10, 15))), interval=\"prediction\")\n",
    "       fit       lwr      upr\n",
    "1 29.80359 17.565675 42.04151\n",
    "2 25.05335 12.827626 37.27907\n",
    "3 20.30310  8.077742 32.52846\n",
    "```"
   ]
  },
  {
   "cell_type": "code",
   "execution_count": 64,
   "id": "b8688fa9-896d-447c-8488-eeb8e302b65d",
   "metadata": {},
   "outputs": [
    {
     "data": {
      "text/html": [
       "<div>\n",
       "<style scoped>\n",
       "    .dataframe tbody tr th:only-of-type {\n",
       "        vertical-align: middle;\n",
       "    }\n",
       "\n",
       "    .dataframe tbody tr th {\n",
       "        vertical-align: top;\n",
       "    }\n",
       "\n",
       "    .dataframe thead th {\n",
       "        text-align: right;\n",
       "    }\n",
       "</style>\n",
       "<table border=\"1\" class=\"dataframe\">\n",
       "  <thead>\n",
       "    <tr style=\"text-align: right;\">\n",
       "      <th></th>\n",
       "      <th>mean</th>\n",
       "      <th>obs_ci_lower</th>\n",
       "      <th>obs_ci_upper</th>\n",
       "    </tr>\n",
       "  </thead>\n",
       "  <tbody>\n",
       "    <tr>\n",
       "      <th>0</th>\n",
       "      <td>29.803594</td>\n",
       "      <td>17.565675</td>\n",
       "      <td>42.041513</td>\n",
       "    </tr>\n",
       "    <tr>\n",
       "      <th>1</th>\n",
       "      <td>25.053347</td>\n",
       "      <td>12.827626</td>\n",
       "      <td>37.279068</td>\n",
       "    </tr>\n",
       "    <tr>\n",
       "      <th>2</th>\n",
       "      <td>20.303101</td>\n",
       "      <td>8.077742</td>\n",
       "      <td>32.528459</td>\n",
       "    </tr>\n",
       "  </tbody>\n",
       "</table>\n",
       "</div>"
      ],
      "text/plain": [
       "        mean  obs_ci_lower  obs_ci_upper\n",
       "0  29.803594     17.565675     42.041513\n",
       "1  25.053347     12.827626     37.279068\n",
       "2  20.303101      8.077742     32.528459"
      ]
     },
     "execution_count": 64,
     "metadata": {},
     "output_type": "execute_result"
    }
   ],
   "source": [
    "sm_model.get_prediction(sm.add_constant([5, 10, 15])).summary_frame()[['mean', 'obs_ci_lower', 'obs_ci_upper']]"
   ]
  },
  {
   "cell_type": "code",
   "execution_count": null,
   "id": "e150a4bb-475f-469a-87a9-2870a4609990",
   "metadata": {},
   "outputs": [],
   "source": []
  },
  {
   "cell_type": "markdown",
   "id": "83ee1e77-9c1b-4bd2-ae06-a0454e352edf",
   "metadata": {},
   "source": [
    "# Non-book work\n",
    "Missed attempts at cloning R output that might be useful for other things"
   ]
  },
  {
   "cell_type": "code",
   "execution_count": 31,
   "id": "f94f4423-121c-4f01-9b93-ec955f1dae35",
   "metadata": {},
   "outputs": [
    {
     "name": "stdout",
     "output_type": "stream",
     "text": [
      "explained_variance:  0.5441\n",
      "r2:  0.5441\n",
      "MAE:  4.5053\n",
      "MSE:  38.483\n",
      "RMSE:  6.2035\n"
     ]
    }
   ],
   "source": [
    "# borrowed function from web, doesn't apply to this chapter directly but may use elsewhere\n",
    "def regression_results(y_true, y_pred):\n",
    "\n",
    "    # Regression metrics\n",
    "    explained_variance=metrics.explained_variance_score(y_true, y_pred)\n",
    "    mean_absolute_error=metrics.mean_absolute_error(y_true, y_pred) \n",
    "    mse=metrics.mean_squared_error(y_true, y_pred) \n",
    "    # mean_squared_log_error=metrics.mean_squared_log_error(y_true, y_pred)  # negative error\n",
    "    median_absolute_error=metrics.median_absolute_error(y_true, y_pred)\n",
    "    r2=metrics.r2_score(y_true, y_pred)\n",
    "\n",
    "    print('explained_variance: ', round(explained_variance,4))    \n",
    "    # print('mean_squared_log_error: ', round(mean_squared_log_error,4))\n",
    "    print('r2: ', round(r2,4))\n",
    "    print('MAE: ', round(mean_absolute_error,4))\n",
    "    print('MSE: ', round(mse,4))\n",
    "    print('RMSE: ', round(np.sqrt(mse),4))\n",
    "    \n",
    "y_pred = sklearn_model.predict(X)\n",
    "regression_results(y, y_pred)"
   ]
  },
  {
   "cell_type": "code",
   "execution_count": 44,
   "id": "c2b27a0e-db12-44b4-9594-35d6f0544d87",
   "metadata": {},
   "outputs": [
    {
     "data": {
      "text/plain": [
       "['__class__',\n",
       " '__delattr__',\n",
       " '__dict__',\n",
       " '__dir__',\n",
       " '__doc__',\n",
       " '__eq__',\n",
       " '__format__',\n",
       " '__ge__',\n",
       " '__getattribute__',\n",
       " '__gt__',\n",
       " '__hash__',\n",
       " '__init__',\n",
       " '__init_subclass__',\n",
       " '__le__',\n",
       " '__lt__',\n",
       " '__module__',\n",
       " '__ne__',\n",
       " '__new__',\n",
       " '__reduce__',\n",
       " '__reduce_ex__',\n",
       " '__repr__',\n",
       " '__setattr__',\n",
       " '__sizeof__',\n",
       " '__str__',\n",
       " '__subclasshook__',\n",
       " '__weakref__',\n",
       " 'conf_int',\n",
       " 'df',\n",
       " 'dist',\n",
       " 'dist_args',\n",
       " 'predicted_mean',\n",
       " 'row_labels',\n",
       " 'se_mean',\n",
       " 'se_obs',\n",
       " 'summary_frame',\n",
       " 'var_pred_mean',\n",
       " 'var_resid']"
      ]
     },
     "execution_count": 44,
     "metadata": {},
     "output_type": "execute_result"
    }
   ],
   "source": [
    "# finding properties of get_prediction function for statsmodels\n",
    "dir(sm_model.get_prediction())"
   ]
  },
  {
   "cell_type": "code",
   "execution_count": 43,
   "id": "bf1b3e68-5877-4ca8-a59d-3d5128fa1ff5",
   "metadata": {},
   "outputs": [
    {
     "data": {
      "text/plain": [
       "array([[29.02529896, 30.61989124],\n",
       "       [25.2652456 , 26.47553397],\n",
       "       [29.87347656, 31.57680741],\n",
       "       [30.84359393, 32.67779762],\n",
       "       [28.7120765 , 30.26807915],\n",
       "       [28.81951546, 30.38865203],\n",
       "       [22.20157281, 23.28788202],\n",
       "       [15.62611418, 17.09467733],\n",
       "       [ 4.69643293,  7.54129451],\n",
       "       [17.66827206, 18.9477218 ]])"
      ]
     },
     "execution_count": 43,
     "metadata": {},
     "output_type": "execute_result"
    }
   ],
   "source": [
    "sm_model.get_prediction().conf_int()[0:10]"
   ]
  },
  {
   "cell_type": "code",
   "execution_count": 53,
   "id": "b0907c66-32a7-4975-bfc7-653996544813",
   "metadata": {},
   "outputs": [
    {
     "data": {
      "text/html": [
       "<div>\n",
       "<style scoped>\n",
       "    .dataframe tbody tr th:only-of-type {\n",
       "        vertical-align: middle;\n",
       "    }\n",
       "\n",
       "    .dataframe tbody tr th {\n",
       "        vertical-align: top;\n",
       "    }\n",
       "\n",
       "    .dataframe thead th {\n",
       "        text-align: right;\n",
       "    }\n",
       "</style>\n",
       "<table border=\"1\" class=\"dataframe\">\n",
       "  <thead>\n",
       "    <tr style=\"text-align: right;\">\n",
       "      <th></th>\n",
       "      <th>mean</th>\n",
       "      <th>mean_se</th>\n",
       "      <th>mean_ci_lower</th>\n",
       "      <th>mean_ci_upper</th>\n",
       "      <th>obs_ci_lower</th>\n",
       "      <th>obs_ci_upper</th>\n",
       "    </tr>\n",
       "  </thead>\n",
       "  <tbody>\n",
       "    <tr>\n",
       "      <th>0</th>\n",
       "      <td>29.822595</td>\n",
       "      <td>0.405814</td>\n",
       "      <td>29.025299</td>\n",
       "      <td>30.619891</td>\n",
       "      <td>17.584603</td>\n",
       "      <td>42.060587</td>\n",
       "    </tr>\n",
       "    <tr>\n",
       "      <th>1</th>\n",
       "      <td>25.870390</td>\n",
       "      <td>0.308011</td>\n",
       "      <td>25.265246</td>\n",
       "      <td>26.475534</td>\n",
       "      <td>13.643413</td>\n",
       "      <td>38.097367</td>\n",
       "    </tr>\n",
       "    <tr>\n",
       "      <th>2</th>\n",
       "      <td>30.725142</td>\n",
       "      <td>0.433488</td>\n",
       "      <td>29.873477</td>\n",
       "      <td>31.576807</td>\n",
       "      <td>18.483488</td>\n",
       "      <td>42.966796</td>\n",
       "    </tr>\n",
       "    <tr>\n",
       "      <th>3</th>\n",
       "      <td>31.760696</td>\n",
       "      <td>0.466794</td>\n",
       "      <td>30.843594</td>\n",
       "      <td>32.677798</td>\n",
       "      <td>19.514315</td>\n",
       "      <td>44.007076</td>\n",
       "    </tr>\n",
       "    <tr>\n",
       "      <th>4</th>\n",
       "      <td>29.490078</td>\n",
       "      <td>0.395994</td>\n",
       "      <td>28.712077</td>\n",
       "      <td>30.268079</td>\n",
       "      <td>17.253328</td>\n",
       "      <td>41.726828</td>\n",
       "    </tr>\n",
       "  </tbody>\n",
       "</table>\n",
       "</div>"
      ],
      "text/plain": [
       "        mean   mean_se  mean_ci_lower  mean_ci_upper  obs_ci_lower  \\\n",
       "0  29.822595  0.405814      29.025299      30.619891     17.584603   \n",
       "1  25.870390  0.308011      25.265246      26.475534     13.643413   \n",
       "2  30.725142  0.433488      29.873477      31.576807     18.483488   \n",
       "3  31.760696  0.466794      30.843594      32.677798     19.514315   \n",
       "4  29.490078  0.395994      28.712077      30.268079     17.253328   \n",
       "\n",
       "   obs_ci_upper  \n",
       "0     42.060587  \n",
       "1     38.097367  \n",
       "2     42.966796  \n",
       "3     44.007076  \n",
       "4     41.726828  "
      ]
     },
     "execution_count": 53,
     "metadata": {},
     "output_type": "execute_result"
    }
   ],
   "source": [
    "sm_model.get_prediction().summary_frame().head()"
   ]
  },
  {
   "cell_type": "code",
   "execution_count": 41,
   "id": "21b3544e-2918-4b36-b665-62c0eb73bd66",
   "metadata": {},
   "outputs": [
    {
     "data": {
      "text/plain": [
       "array([0.40581435, 0.30801126, 0.43348767, 0.46679404, 0.39599351,\n",
       "       0.39933602, 0.2764593 , 0.37374067, 0.72400052, 0.32561243])"
      ]
     },
     "execution_count": 41,
     "metadata": {},
     "output_type": "execute_result"
    }
   ],
   "source": [
    "sm_model.get_prediction().se_mean[0:10]"
   ]
  },
  {
   "cell_type": "code",
   "execution_count": null,
   "id": "35ec11ca-82b6-4d18-8863-8c41a0f77b8b",
   "metadata": {},
   "outputs": [],
   "source": []
  }
 ],
 "metadata": {
  "kernelspec": {
   "display_name": "mlenv",
   "language": "python",
   "name": "mlenv"
  },
  "language_info": {
   "codemirror_mode": {
    "name": "ipython",
    "version": 3
   },
   "file_extension": ".py",
   "mimetype": "text/x-python",
   "name": "python",
   "nbconvert_exporter": "python",
   "pygments_lexer": "ipython3",
   "version": "3.8.12"
  }
 },
 "nbformat": 4,
 "nbformat_minor": 5
}
